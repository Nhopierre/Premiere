{
 "cells": [
  {
   "cell_type": "markdown",
   "metadata": {},
   "source": [
    "## Chap 14 - Mouvement et énergie."
   ]
  },
  {
   "cell_type": "markdown",
   "metadata": {},
   "source": [
    "<div class = 'alert alert-info'>\n",
    "    <h1>Comment évolue les énergies d'un solide en mouvement ? </h1><br>\n",
    "    </div>"
   ]
  },
  {
   "cell_type": "markdown",
   "metadata": {},
   "source": [
    "<div class = 'alert alert-info'>\n",
    "Pour exécuter le code écrit dans un bloc : <b>MAJ-ENTREE </b><br>\n",
    "    Pour recommencer depuis le début : Menu <b>Kernel / Restart and clear output </b><br>\n",
    "    Toujours exécuter dans l'ordre le code  écrit dans les blocs précédés de la mention <b>Entrée  [  ]</b>\n",
    "</div>"
   ]
  },
  {
   "cell_type": "markdown",
   "metadata": {},
   "source": [
    "<div class = 'alert alert-warning'>Importation des modules de calcul et de tracé de courbe.\n",
    "    </div>"
   ]
  },
  {
   "cell_type": "code",
   "execution_count": null,
   "metadata": {},
   "outputs": [],
   "source": [
    "import numpy as np\n",
    "import matplotlib.pyplot as plt"
   ]
  },
  {
   "cell_type": "markdown",
   "metadata": {},
   "source": [
    "## 1. Mesures et données"
   ]
  },
  {
   "cell_type": "markdown",
   "metadata": {},
   "source": [
    "<div class = 'alert alert-warning'>\n",
    "    <h3>Définition des valeurs des paramètres.</h3><br>\n",
    "    Création des tableaux des coordonnées de la position du point en fonction du temps.<br>\n",
    "    Les valeurs sont rassemblées dans des tableaux \"numpy\" plus performants pour les calculs que de simples listes.<br>\n",
    "    <hr>\n",
    "    <i>Remplacer la valeur de</i> <code class = \"python\">d_t</code> <i>par celle mesurée avec Avistep</i> <br>\n",
    "        </div>"
   ]
  },
  {
   "cell_type": "code",
   "execution_count": null,
   "metadata": {},
   "outputs": [],
   "source": [
    "masse = 0.080                      # masse en kg\n",
    "d_t =               # à compléter  # Durée séparant deux mesures (en seconde) : \n",
    "                                   # valeur issue de l'exploitation avec AVISTEP\n",
    "g = 9.81                           # intensité du champ de pesanteur en N/kg\n",
    "\n",
    "\n",
    "# Création de deux tableaux contenant x et y les abscisses et les ordonnées du point (en mètres): \n",
    "# Valeurs issues de l'exploitation avec AVISTEP\n",
    "\n",
    "x = np.array([ 0.016144672, 0.023171372, 0.025482242, 0.021215593, 0.025565696, 0.027945457, 0.025500732, 0.023994134, 0.023697298, 0.022911517, 0.023063862, 0.020090429, 0.018163777, 0.01739256, 0.016621342, 0.021184828, 0.028765436, 0.034430029, 0.041358711, 0.046262723, 0.049413701, 0.058164308, 0.061873122, 0.068164441, 0.072594072, 0.076534758, 0.081685206, 0.084756656, 0.088983542, 0.097274331, 0.097560531, 0.102019289, 0.1074705, 0.10946997, 0.112570547, 0.115345162, 0.120539301, 0.119536211, 0.12248837, 0.125331876, 0.128215145, 0.131449249, 0.136959535, 0.142191831, 0.14321127, 0.150707451, 0.155494529, 0.157579455, 0.163071066, 0.16582925, 0.16962208, 0.172299909, 0.175342166, 0.177939638, 0.179338713, 0.181800232, 0.184514983, 0.185416716, 0.187353095, 0.188174472, 0.187797451, 0.18787173, 0.18839036, 0.1886032, 0.191438699, 0.195972979, 0.198499647, 0.202311153, 0.205007657, 0.207818398, 0.210427596, 0.210980535, 0.211925701, 0.21546834, 0.217114564, 0.216780976, 0.216839615, 0.219440129, 0.217966782, 0.219035309, 0.218290818, 0.216459125, 0.215773274, 0.214927578\n",
    "])\n",
    "y = np.array([ 1.168652839, 1.158008531, 1.140118052, 1.104662962, 1.061472896, 1.00500075, 0.938318789, 0.856764302, 0.767746398, 0.665392101, 0.548165279, 0.426601616, 0.29312907, 0.150711285, 0.0082935, 0.132766494, 0.258612685, 0.372658618, 0.480722954, 0.574023388, 0.659969026, 0.73680649, 0.797506854, 0.847725845, 0.887626398, 0.914190559, 0.933291302, 0.936146321, 0.930056101, 0.913430196, 0.880775814, 0.840549391, 0.786932264, 0.720087367, 0.64281541, 0.556652525, 0.455562802, 0.34728122, 0.22550031, 0.100755758, 0.017556515, 0.135552941, 0.244684519, 0.346233678, 0.435789113, 0.516755222, 0.585577569, 0.642445713, 0.689318565, 0.723384193, 0.744504449, 0.75579519, 0.756442915, 0.744958768, 0.721370381, 0.685594864, 0.636143363, 0.578406459, 0.507724184, 0.427212394, 0.334596362, 0.23370682, 0.124354207, 0.006660933, 0.084001609, 0.187094881, 0.276595057, 0.359974039, 0.433523505, 0.489605778, 0.540190797, 0.575855797, 0.601636022, 0.615932101, 0.619668052, 0.610569149, 0.591585472, 0.559601164, 0.519414342, 0.466226891, 0.404754036, 0.334209908, 0.253753376, 0.168936953\n",
    "  ])\n"
   ]
  },
  {
   "cell_type": "markdown",
   "metadata": {},
   "source": [
    "<div class = 'alert alert-warning'>\n",
    "    <h3>Manipulation des tableaux \"numpy\".</h3><br>\n",
    "    </div>"
   ]
  },
  {
   "cell_type": "code",
   "execution_count": null,
   "metadata": {},
   "outputs": [],
   "source": [
    "nbre = len(x) \n",
    "print(nbre)\n",
    "i = 2\n",
    "print(x[i])"
   ]
  },
  {
   "cell_type": "markdown",
   "metadata": {},
   "source": [
    "<div class = 'alert alert-warning'>\n",
    "    <h4><u>Questions</u></h4><br>\n",
    "    a) Quelle valeur renvoie l'instruction <code class = \"python\">len(x)</code> ?<br>\n",
    "    b) Quelle valeur renvoie l'instruction <code class = \"python\">x(i)</code> ?<br>\n",
    "    <br>\n",
    "    c) Quel code permet d'afficher l'ordonnée du premier point ? <br>\n",
    "    d) Quel code permet d'afficher l'ordonnée du dernier point ?\n",
    "    </div>"
   ]
  },
  {
   "cell_type": "markdown",
   "metadata": {},
   "source": [
    "## 2. Représentation de la trajectoire"
   ]
  },
  {
   "cell_type": "markdown",
   "metadata": {},
   "source": [
    "<div class = 'alert alert-warning'>\n",
    "    On représente la trajectoire, c'est-à-dire la courbe formée par l'ensemble des positions successives du point qui se déplace.<br>\n",
    "    <br>\n",
    "    <i>Compléter les arguments de la fonction</i> <code class = \"python\">plt.plot( , ,'bo--')</code>.\n",
    "    <hr>\n",
    " Les arguments de la fonction <code class = \"python\">plt.plot(  ,  ,   )</code> sont :<br>\n",
    "    - le tableau des abscisses<br>\n",
    "    - le tableau des ordonnées<br>\n",
    "    - la mise en forme des points et de la courbe : <code class = \"python\">'b'</code>=blue, <code class = \"python\">'g'</code>=green, <code class = \"python\">'r'</code>=red, <code class = \"python\">'o'</code>=points, <code class = \"python\">'+'</code>= croix, <code class = \"python\">'--'</code>=pointillé, <code class = \"python\">'-'</code>=ligne continue</div>"
   ]
  },
  {
   "cell_type": "code",
   "execution_count": null,
   "metadata": {},
   "outputs": [],
   "source": [
    "plt.figure (figsize = (12,12))\n",
    "plt.grid()\n",
    "\n",
    "plt.plot(   ,   ,'bo--')            # à compléter\n",
    "\n",
    "plt.xlabel(\"x en m\")\n",
    "plt.ylabel(\"y en m\")\n",
    "axes = plt.gca()\n",
    "axes.set_aspect('equal','box')\n",
    "\n",
    "plt.show()\n"
   ]
  },
  {
   "cell_type": "markdown",
   "metadata": {},
   "source": [
    "## 3. Calcul de la vitesse pour chaque date."
   ]
  },
  {
   "cell_type": "markdown",
   "metadata": {},
   "source": [
    "<div class = 'alert alert-warning'>\n",
    "    On commence par créer deux tableaux \"numpy\" vides.<br>\n",
    "    </div>"
   ]
  },
  {
   "cell_type": "code",
   "execution_count": null,
   "metadata": {},
   "outputs": [],
   "source": [
    "V_x=np.array([])\n",
    "V_y=np.array([])"
   ]
  },
  {
   "cell_type": "markdown",
   "metadata": {},
   "source": [
    "<div class = 'alert alert-warning'>\n",
    "    Les coordonnées du vecteur vitesse du <b>i<sup>ème</sup></b> se calculent à partir des expressions suivantes.<br>\n",
    "    \\begin{align}\n",
    "V_{x}[i]=\\frac{x_{[i+1]}-x_{[i-1]}}{t_{[i+1]}-t_{[i-1]}}\n",
    "\\end{align}\n",
    "    <br>\n",
    "    \\begin{align}\n",
    "V_{y}[i]=\\frac{y_{[i+1]}-y_{[i-1]}}{t_{[i+1]}-t_{[i-1]}}\n",
    "\\end{align}\n",
    "    <br>\n",
    "    Les valeurs sont ensuite ajoutées dans les tableaux <code class = \"python\">V_x</code> et <code class = \"python\">V_y</code><br><br>\n",
    "   <i>Compléter le calcul des coordonnéespour le </i><b>i<sup>ème</sup></b><i> point </i><code class = \"python\">V_xi</code><i> et </i><code class = \"python\">V_yi</code><i> à partir des abscisses </i><code class = \"python\">x[...]</code><i> et des ordonnées </i><code class = \"python\">y[...]</code> <i>des points précédent et suivant et de la durée </i><code class = \"python\">d_t</code>.\n",
    "    <br>                                                                                                               \n",
    "    <hr>\n",
    "    <h4><u>Questions</u></h4><br>\n",
    "    Pourquoi ne peut-on pas calculer la valeur de la vitesse au premier et au dernier points ?\n",
    "    </div>"
   ]
  },
  {
   "cell_type": "code",
   "execution_count": null,
   "metadata": {},
   "outputs": [],
   "source": ["V_x=np.array([])\n",
    "V_y=np.array([])\n",
    "for i in range (1,(nbre-1)): \n",
    "    V_xi =                                    # à compléter\n",
    "    V_x = np.append(V_x,V_xi)\n",
    "    \n",
    "     \n",
    "for i in range(1,(nbre-1)): \n",
    "    V_yi =                                    # à compléter\n",
    "    V_y = np.append(V_y,V_yi)\n"
   ]
  },
  {
   "cell_type": "markdown",
   "metadata": {},
   "source": [
    "## 4. Energie cinétique et potentielle."
   ]
  },
  {
   "cell_type": "markdown",
   "metadata": {},
   "source": [
    "<div class = 'alert alert-warning'>\n",
    "    On calcule l'énergie cinétique, l'énergie potentielle puis l'énergie mécanique du solide.\n",
    "<hr>\n",
    "    <i>Calculer les valeurs du tableau</i> <code class = \"python\">E_c</code> <i>de l'énergie cinétique</i>.\n",
    "    </div>"
   ]
  },
  {
   "cell_type": "code",
   "execution_count": null,
   "metadata": {},
   "outputs": [],
   "source": [
    "V = (V_x**2+V_y**2)**(0.5)\n",
    "E_c = "
   ]
  },
  {
   "cell_type": "markdown",
   "metadata": {},
   "source": [
    "<div class = 'alert alert-warning'>\n",
    "<i>Compléter la ligne permettant de calculer les valeurs du tableau </i><code class = \"python\">E_pp</code> <i>de l'énergie potentielle à partir du tableau des ordonnées</i> <code class = \"python\">y</code>.\n",
    "    </div>"
   ]
  },
  {
   "cell_type": "code",
   "execution_count": null,
   "metadata": {},
   "outputs": [],
   "source": [
    "\n",
    "E_pp =                 # à compléter"
   ]
  },
  {
   "cell_type": "markdown",
   "metadata": {},
   "source": [
    "<div class = 'alert alert-warning'>\n",
    "Représentation des énergies cinétiques et potentielles en fonction de la date t    </div>"
   ]
  },
  {
   "cell_type": "code",
   "execution_count": null,
   "metadata": {},
   "outputs": [],
   "source": [
    "plt.figure (figsize = (10,5))\n",
    "plt.grid()\n",
    "t = np.arange(0, (nbre)*d_t,d_t)     # Création du tableau des dates\n",
    "\n",
    "t = t[1:-1]                          # permet d'enlever le premier et le dernier point du tableau\n",
    "E_pp = E_pp[1:-1]                    # permet d'enlever le premier et le dernier point du tableau\n",
    "\n",
    "\n",
    "plt.plot(t,E_c,'bo--')\n",
    "plt.plot(t,E_pp,'rX--')        \n",
    "plt.xlabel(\"t en s\")\n",
    "plt.ylabel(\"y en m\")\n",
    "\n",
    "plt.show()"
   ]
  },
  {
   "cell_type": "markdown",
   "metadata": {},
   "source": [
    "<div class = 'alert alert-warning'>\n",
    "   <h4><u>Questions</u></h4><br>Identifier la courbe représentant l'énergie cinétique et celle représentant l'énergie potentielle de pesanteur. Justifier. </div>"
   ]
  },
  {
   "cell_type": "markdown",
   "metadata": {},
   "source": [
    "## 5. Energie mécanique"
   ]
  },
  {
   "cell_type": "markdown",
   "metadata": {},
   "source": [
    "<div class = 'alert alert-warning'>\n",
    "    <i>Calculer l'énergie mécanique </i><code class = \"python\">E_m</code><i>, somme des énergies cinétique et potentielle.</i><br>\n",
    "    </div>"
   ]
  },
  {
   "cell_type": "code",
   "execution_count": null,
   "metadata": {
    "scrolled": true
   },
   "outputs": [],
   "source": [
    "E_m =                              # à compléter"
   ]
  },
  {
   "cell_type": "markdown",
   "metadata": {},
   "source": [
    "<div class = 'alert alert-warning'>\n",
    "    <i>Rajouter les deux lignes permettant de représenter les énergies potentielle et mécanique en fonction de la date t.</i><br><hr>\n",
    " Les arguments de la fonction <code class = \"python\">plt.plot( )</code> sont :<br>\n",
    "    - le tableau des abscisses<br>\n",
    "    - le tableau des ordonnées<br>\n",
    "    - la mise en forme des points et de la courbe : <code class = \"python\">'b'</code>=blue, <code class = \"python\">'g'</code>=green, <code class = \"python\">'r'</code>=red, <code class = \"python\">'o'</code>=points, <code class = \"python\">'+'</code>= croix, <code class = \"python\">'--'</code>=pointillé\n",
    "    </div>"
   ]
  },
  {
   "cell_type": "code",
   "execution_count": null,
   "metadata": {
    "scrolled": true
   },
   "outputs": [],
   "source": [
    "plt.figure (figsize = (10,5))\n",
    "plt.grid()\n",
    "\n",
    "plt.plot(t,E_c,'bo--')\n",
    "                              # ligne manquante\n",
    "                              # ligne manquante\n",
    "\n",
    "plt.xlabel(\"t en s\")\n",
    "plt.ylabel(\"y en m\")\n",
    "\n",
    "plt.show()"
   ]
  },
  {
   "cell_type": "markdown",
   "metadata": {},
   "source": [
    "# C'est fini\n",
    "Il ne reste plus qu'à télécharger le fichier !"
   ]
  },
  {
   "cell_type": "markdown",
   "metadata": {},
   "source": [
    "<div class = 'alert alert-success'><h4>La commande suivante imprime toutes les lignes de code exécutées depuis la dernière initialisation de la page (Restart and Clear Output) <br><br>Cela permet de les copier dans Spyder ou dans un fichier .text par exemple.</h4></div>"
   ]
  },
  {
   "cell_type": "code",
   "execution_count": null,
   "metadata": {},
   "outputs": [],
   "source": [
    "%history"
   ]
  }
 ],
 "metadata": {
  "kernelspec": {
   "display_name": "Python 3",
   "language": "python",
   "name": "python3"
  },
  "language_info": {
   "codemirror_mode": {
    "name": "ipython",
    "version": 3
   },
   "file_extension": ".py",
   "mimetype": "text/x-python",
   "name": "python",
   "nbconvert_exporter": "python",
   "pygments_lexer": "ipython3",
   "version": "3.7.6"
  }
 },
 "nbformat": 4,
 "nbformat_minor": 4
}
